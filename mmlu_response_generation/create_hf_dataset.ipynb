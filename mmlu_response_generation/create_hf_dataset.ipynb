{
 "cells": [
  {
   "cell_type": "code",
   "execution_count": 2,
   "metadata": {},
   "outputs": [
    {
     "name": "stderr",
     "output_type": "stream",
     "text": [
      "/data/tianhao/miniconda3/envs/vllm/lib/python3.11/site-packages/tqdm/auto.py:21: TqdmWarning: IProgress not found. Please update jupyter and ipywidgets. See https://ipywidgets.readthedocs.io/en/stable/user_install.html\n",
      "  from .autonotebook import tqdm as notebook_tqdm\n"
     ]
    }
   ],
   "source": [
    "import json\n",
    "import re\n",
    "import os\n",
    "import json\n",
    "from datasets import Dataset, DatasetDict, load_dataset\n",
    "import tqdm"
   ]
  },
  {
   "cell_type": "code",
   "execution_count": 4,
   "metadata": {},
   "outputs": [],
   "source": [
    "def split_exemplar_and_test_question(prompt):\n",
    "    pattern = r'(Answer: [ABCD])(?!.*Answer: [ABCD])'\n",
    "    match = re.search(pattern, prompt, flags=re.DOTALL)\n",
    "    if match:\n",
    "        split_index = match.end()\n",
    "        return prompt[:split_index], prompt[split_index:].strip()\n",
    "    return \"\", prompt\n",
    "\n",
    "def extract_subject(test_question):\n",
    "    match = re.search(r'about\\s(.*?)\\.', test_question)\n",
    "    if match:\n",
    "        return match.group(1)\n",
    "    return \"\"\n",
    "\n",
    "def model_name_from_file(file_name):\n",
    "    base_name = file_name.split('/')[-1]\n",
    "    model_name = base_name.split('_mmlu')[0]\n",
    "    return model_name.replace('-', '_')\n"
   ]
  },
  {
   "cell_type": "code",
   "execution_count": 5,
   "metadata": {},
   "outputs": [],
   "source": [
    "mmlu_dataset = load_dataset('hails/mmlu_no_train', 'all')\n",
    "mmlu_dev = mmlu_dataset['dev']\n",
    "random_1k_sample = mmlu_dataset['test'].shuffle(seed=42).select(range(1000))\n",
    "# random_1k_sample = random_1k_sample.sort('question')\n",
    "reference_answers = random_1k_sample['answer']\n",
    "# print([(index, item) for index, item in enumerate(random_1k_sample['question']) if \"Ad lazarum\" in item])\n",
    "# print(random_1k_sample['question'][0])"
   ]
  },
  {
   "cell_type": "code",
   "execution_count": 6,
   "metadata": {},
   "outputs": [],
   "source": [
    "# print(sorted(random_1k_sample['question'])[44])"
   ]
  },
  {
   "cell_type": "code",
   "execution_count": 7,
   "metadata": {},
   "outputs": [],
   "source": [
    "# with open(\"/data/richard/llm2vec/mmlu_response_generation/outputs/34b_beta+AlphaMonarch_7B_vote_mmlu_vllm.json\", 'r') as file:\n",
    "#     responses = json.load(file)\n",
    "\n",
    "# for response in responses:\n",
    "#     exemplar, test_question = split_exemplar_and_test_question(response['prompt'])\n",
    "#     response['test_question'] = test_question\n",
    "# responses = sorted(responses, key=lambda x: x['test_question'])\n",
    "# print(responses[0]['test_question'])\n",
    "# print(responses[1]['test_question'])"
   ]
  },
  {
   "cell_type": "code",
   "execution_count": 11,
   "metadata": {},
   "outputs": [],
   "source": [
    "def create_hf_dataset(output_folder):\n",
    "    # Initialize the lists to store dataset information\n",
    "    exemplar_questions = []\n",
    "    test_questions = []\n",
    "    subjects = []\n",
    "    answers_list = []  # List of lists, each sublist corresponds to answers for one prompt\n",
    "\n",
    "    # Iterate over files in the output folder\n",
    "    for i, file_name in enumerate(sorted(os.listdir(output_folder))):\n",
    "        if file_name.endswith('.json'):\n",
    "            file_path = os.path.join(output_folder, file_name)\n",
    "            model_name = model_name_from_file(file_name)\n",
    "            #print(model_name)\n",
    "            try:\n",
    "                with open(file_path, 'r') as file:\n",
    "                    responses = json.load(file)\n",
    "            except Exception:\n",
    "                print(f\"Error in Loading Response from {model_name}, Skipping...\")\n",
    "                continue\n",
    "            if len(responses) != 1000:\n",
    "                print(f\"Found Incomplete Response from {model_name}, Skipping...\")\n",
    "                continue\n",
    "            \n",
    "            # for response in responses:\n",
    "            #     exemplar, test_question = split_exemplar_and_test_question(response['prompt'])\n",
    "            #     response['test_question'] = test_question\n",
    "            # responses = sorted(responses, key=lambda x: x['test_question'])\n",
    "            # print(responses[0]['test_question'])\n",
    "            # print(responses[1]['test_question'])\n",
    "\n",
    "            # If this is the first file, initialize prompts and subjects\n",
    "            if answers_list == []:\n",
    "                print(f\"Initializing with {model_name}\")\n",
    "                for response in responses:\n",
    "                    exemplar, test_question = split_exemplar_and_test_question(response['prompt'])\n",
    "                    subject = extract_subject(exemplar)\n",
    "                    answer = response['output'][0] if response['output'] else None\n",
    "\n",
    "                    exemplar_questions.append(exemplar)\n",
    "                    test_questions.append(test_question)\n",
    "                    subjects.append(subject)\n",
    "                    answers_list.append([{'answer': answer, 'model': model_name}])\n",
    "            \n",
    "            # For subsequent files, only update the answers\n",
    "            else:\n",
    "                for k, response in enumerate(responses):\n",
    "                    answer = response['output'][0] if response['output'] else None\n",
    "                    answers_list[k].append({'answer': answer, 'model': model_name})\n",
    "\n",
    "    # Create a dataset from the compiled data\n",
    "    dataset = Dataset.from_dict({'exemplar_questions': exemplar_questions, 'test_questions': test_questions, \n",
    "                                 'subject': subjects, 'answers': answers_list, 'reference_answers': reference_answers})\n",
    "    return dataset"
   ]
  },
  {
   "cell_type": "code",
   "execution_count": 12,
   "metadata": {},
   "outputs": [
    {
     "name": "stdout",
     "output_type": "stream",
     "text": [
      "Initializing with 34b_beta\n"
     ]
    },
    {
     "data": {
      "text/plain": [
       "Dataset({\n",
       "    features: ['exemplar_questions', 'test_questions', 'subject', 'answers', 'reference_answers'],\n",
       "    num_rows: 1000\n",
       "})"
      ]
     },
     "execution_count": 12,
     "metadata": {},
     "output_type": "execute_result"
    }
   ],
   "source": [
    "# Usage\n",
    "output_folder = \"/data/richard/llm2vec/mmlu_response_generation/outputs\"\n",
    "dataset = create_hf_dataset(output_folder)\n",
    "dataset"
   ]
  },
  {
   "cell_type": "code",
   "execution_count": 13,
   "metadata": {},
   "outputs": [
    {
     "data": {
      "text/plain": [
       "5673"
      ]
     },
     "execution_count": 13,
     "metadata": {},
     "output_type": "execute_result"
    }
   ],
   "source": [
    "len(dataset['answers'][0])"
   ]
  },
  {
   "cell_type": "code",
   "execution_count": 14,
   "metadata": {},
   "outputs": [
    {
     "name": "stderr",
     "output_type": "stream",
     "text": [
      "Saving the dataset (1/1 shards): 100%|██████████| 1000/1000 [00:00<00:00, 5515.34 examples/s]\n"
     ]
    }
   ],
   "source": [
    "dataset.save_to_disk('/data/richard/llm2vec/mmlu_response_generation/hf_dataset')"
   ]
  },
  {
   "cell_type": "code",
   "execution_count": 16,
   "metadata": {},
   "outputs": [
    {
     "name": "stderr",
     "output_type": "stream",
     "text": [
      "Creating parquet from Arrow format: 100%|██████████| 1/1 [00:00<00:00,  1.26ba/s]\n",
      "Uploading the dataset shards: 100%|██████████| 1/1 [00:01<00:00,  1.06s/it]\n"
     ]
    }
   ],
   "source": [
    "dataset.push_to_hub(\"RZ412/mmlu_responses_1k_augmented\")"
   ]
  },
  {
   "cell_type": "code",
   "execution_count": 17,
   "metadata": {},
   "outputs": [
    {
     "name": "stderr",
     "output_type": "stream",
     "text": [
      "Downloading readme: 100%|██████████| 522/522 [00:00<00:00, 1.70MB/s]\n"
     ]
    }
   ],
   "source": [
    "from datasets import load_dataset\n",
    "\n",
    "dataset = load_dataset(\"RZ412/mmlu_responses_1k_augmented\")"
   ]
  },
  {
   "cell_type": "code",
   "execution_count": 18,
   "metadata": {},
   "outputs": [
    {
     "data": {
      "text/plain": [
       "5756"
      ]
     },
     "execution_count": 18,
     "metadata": {},
     "output_type": "execute_result"
    }
   ],
   "source": [
    "len(dataset['train']['answers'][0])"
   ]
  }
 ],
 "metadata": {
  "kernelspec": {
   "display_name": "base",
   "language": "python",
   "name": "python3"
  },
  "language_info": {
   "codemirror_mode": {
    "name": "ipython",
    "version": 3
   },
   "file_extension": ".py",
   "mimetype": "text/x-python",
   "name": "python",
   "nbconvert_exporter": "python",
   "pygments_lexer": "ipython3",
   "version": "3.11.0"
  }
 },
 "nbformat": 4,
 "nbformat_minor": 2
}
